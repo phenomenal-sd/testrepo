{
 "cells": [
  {
   "cell_type": "markdown",
   "id": "b91fb369-fed2-4c0c-8016-4c1813fc6f39",
   "metadata": {},
   "source": [
    "# Data Science Tools and Ecosystem"
   ]
  },
  {
   "cell_type": "markdown",
   "id": "b43b74c5-24d2-4e8f-b4b6-129ea7a4e3b9",
   "metadata": {},
   "source": [
    "## In this notebook, Data Science Tools and Ecosystem are summarized."
   ]
  },
  {
   "cell_type": "markdown",
   "id": "ae5e09ba-2c67-4d69-880a-069f8b66461c",
   "metadata": {},
   "source": [
    "__Objectives:__\n",
    "* List popular languages for Data Science.\n",
    "* List commonly used libraries used by Data Scientists.\n",
    "* List Data Science Tools\n",
    "* Evaluating Arithmetic Expressions"
   ]
  },
  {
   "cell_type": "markdown",
   "id": "5468c54f-3037-4dab-bfd0-c85dcd491701",
   "metadata": {},
   "source": [
    "### Some of the popular languages that Data Scientists use are:"
   ]
  },
  {
   "cell_type": "markdown",
   "id": "ba6e64d2-0131-422c-87f0-a73ba8533a7a",
   "metadata": {},
   "source": [
    "1. Python\n",
    "2. R\n",
    "3. Scala\n",
    "4. SQL"
   ]
  },
  {
   "cell_type": "markdown",
   "id": "447dac88-d072-470f-9205-e4990c1b4817",
   "metadata": {},
   "source": [
    "### Some of the commonly used libraries used by Data Scientists include:"
   ]
  },
  {
   "cell_type": "markdown",
   "id": "c68a658c-f3d7-4b24-aead-f90a6fabba70",
   "metadata": {},
   "source": [
    "1. Pandas\n",
    "2. Numpy\n",
    "3. Matplotlib\n",
    "4. Plotly"
   ]
  },
  {
   "cell_type": "markdown",
   "id": "95b6a2bd-7e80-4c01-a353-0c480c1cf8bb",
   "metadata": {},
   "source": [
    " | Data Science Tools |\n",
    " | ------------ |\n",
    " | JupyterLab |\n",
    " | Hadoop |\n",
    " | Rstudio |\n",
    " | Apache Spark |"
   ]
  },
  {
   "cell_type": "markdown",
   "id": "f2f06427-fab2-41e3-af6c-2e2962932254",
   "metadata": {},
   "source": [
    "### Below are a few examples of evaluating arithmetic expressions in Python"
   ]
  },
  {
   "cell_type": "code",
   "execution_count": 1,
   "id": "8308dc1c-33de-4ca7-8857-0e7d64f7aca6",
   "metadata": {},
   "outputs": [
    {
     "data": {
      "text/plain": [
       "17"
      ]
     },
     "execution_count": 1,
     "metadata": {},
     "output_type": "execute_result"
    }
   ],
   "source": [
    "# This a simple arithmetic expression to multiply then add integers.\n",
    "(3*4)+5"
   ]
  },
  {
   "cell_type": "code",
   "execution_count": 32,
   "id": "e22ccde9-c709-40ea-82ab-e1a3b97ac6e4",
   "metadata": {},
   "outputs": [
    {
     "data": {
      "text/plain": [
       "3.3333333333333335"
      ]
     },
     "execution_count": 32,
     "metadata": {},
     "output_type": "execute_result"
    }
   ],
   "source": [
    "# This will convert 200 minutes to hours by diving by 60\n",
    "minutes = 200\n",
    "hours = minutes/60\n",
    "hours"
   ]
  },
  {
   "cell_type": "markdown",
   "id": "f22fa5d8-ad62-4024-aacd-b09e386052d5",
   "metadata": {},
   "source": [
    "## Author\n",
    "Sahir Dev"
   ]
  },
  {
   "cell_type": "code",
   "execution_count": null,
   "id": "0d0ae4cb-c2d8-41e5-9bd0-d81d65babb63",
   "metadata": {},
   "outputs": [],
   "source": []
  }
 ],
 "metadata": {
  "kernelspec": {
   "display_name": "Python 3 (ipykernel)",
   "language": "python",
   "name": "python3"
  },
  "language_info": {
   "codemirror_mode": {
    "name": "ipython",
    "version": 3
   },
   "file_extension": ".py",
   "mimetype": "text/x-python",
   "name": "python",
   "nbconvert_exporter": "python",
   "pygments_lexer": "ipython3",
   "version": "3.11.9"
  }
 },
 "nbformat": 4,
 "nbformat_minor": 5
}
